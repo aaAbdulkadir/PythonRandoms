{
 "cells": [
  {
   "cell_type": "markdown",
   "id": "458196a6",
   "metadata": {},
   "source": [
    "## 1. Import Contacts"
   ]
  },
  {
   "cell_type": "code",
   "execution_count": null,
   "id": "efde72ca",
   "metadata": {},
   "outputs": [],
   "source": [
    "import warnings\n",
    "warnings.filterwarnings('ignore')"
   ]
  },
  {
   "cell_type": "code",
   "execution_count": null,
   "id": "2c538f65",
   "metadata": {},
   "outputs": [],
   "source": [
    "import pandas as pd"
   ]
  },
  {
   "cell_type": "code",
   "execution_count": null,
   "id": "86263361",
   "metadata": {
    "scrolled": false
   },
   "outputs": [],
   "source": [
    "db = pd.read_csv('Covve Export (2).csv')"
   ]
  },
  {
   "cell_type": "code",
   "execution_count": null,
   "id": "edce5df1",
   "metadata": {
    "scrolled": true
   },
   "outputs": [],
   "source": [
    "contacts = db[['Given Name', 'Phone - 1']]\n",
    "contacts.rename(columns = {'Given Name':'FName', 'Phone - 1':'Number'}, inplace = True)"
   ]
  },
  {
   "cell_type": "code",
   "execution_count": null,
   "id": "56bf0ce7",
   "metadata": {
    "scrolled": false
   },
   "outputs": [],
   "source": [
    "contacts"
   ]
  },
  {
   "cell_type": "code",
   "execution_count": null,
   "id": "9ecc226a",
   "metadata": {},
   "outputs": [],
   "source": [
    "contacts = contacts.dropna(how='any')"
   ]
  },
  {
   "cell_type": "code",
   "execution_count": null,
   "id": "097176ee",
   "metadata": {},
   "outputs": [],
   "source": [
    "def whitespace(row):\n",
    "    if ' ' in row:\n",
    "        return row.replace(' ', '')\n",
    "    else:\n",
    "        return row"
   ]
  },
  {
   "cell_type": "code",
   "execution_count": null,
   "id": "3179f735",
   "metadata": {},
   "outputs": [],
   "source": [
    "def zeros(row):\n",
    "    if row.startswith('0'):\n",
    "        return row.replace('07','+447', 1)\n",
    "    else:\n",
    "        return row"
   ]
  },
  {
   "cell_type": "code",
   "execution_count": null,
   "id": "70a8b676",
   "metadata": {
    "scrolled": false
   },
   "outputs": [],
   "source": [
    "contacts['Number'] = contacts['Number'].apply(lambda x: whitespace(x))\n",
    "contacts['Number'] = contacts['Number'].apply(lambda x: zeros(x))"
   ]
  },
  {
   "cell_type": "code",
   "execution_count": null,
   "id": "d0b30b6a",
   "metadata": {
    "scrolled": false
   },
   "outputs": [],
   "source": [
    "pd.set_option('display.max_rows', 500)\n",
    "contacts"
   ]
  },
  {
   "cell_type": "markdown",
   "id": "58855822",
   "metadata": {},
   "source": [
    "## 2. Whatsapp"
   ]
  },
  {
   "cell_type": "code",
   "execution_count": null,
   "id": "71012805",
   "metadata": {},
   "outputs": [],
   "source": [
    "import time\n",
    "import pyautogui\n",
    "import webbrowser as web"
   ]
  },
  {
   "cell_type": "code",
   "execution_count": null,
   "id": "8111b1af",
   "metadata": {},
   "outputs": [],
   "source": [
    "failures = {}"
   ]
  },
  {
   "cell_type": "code",
   "execution_count": null,
   "id": "e432dcfd",
   "metadata": {},
   "outputs": [],
   "source": [
    "for index, row in testers.iterrows():\n",
    "    try:\n",
    "        number = row['Number']\n",
    "        message = f\"Hello {row['FName'].split(' ')[0]}, this is an automated message for testing purposes.\"\n",
    "\n",
    "        web.open(f\"https://web.whatsapp.com/send?phone={number}&text={message}\")\n",
    "        time.sleep(5)\n",
    "\n",
    "        width, height= pyautogui.size()\n",
    "        pyautogui.click(width / 2, height / 2)\n",
    "\n",
    "        pyautogui.press(\"enter\")\n",
    "        time.sleep(1)\n",
    "        pyautogui.hotkey('ctrl', 'w') \n",
    "        pyautogui.press(\"enter\")\n",
    "    except:\n",
    "        print(row['FName'], end='')\n",
    "        print(' with number ', end='')\n",
    "        print(row['Number'], end='')\n",
    "        print(' failed!')\n",
    "        failures[row['FName']] = row['Number']"
   ]
  },
  {
   "cell_type": "code",
   "execution_count": null,
   "id": "f60172bf",
   "metadata": {},
   "outputs": [],
   "source": [
    "def run_script(db):\n",
    "    for index, row in db.iterrows():\n",
    "        try:\n",
    "            number = row['Number']\n",
    "            message = f\"Hello {row['FName'].split(' ')[0]}, this is an automated message for testing purposes.\"\n",
    "\n",
    "            web.open(f\"https://web.whatsapp.com/send?phone={number}&text={message}\")\n",
    "            time.sleep(5)\n",
    "\n",
    "            width, height= pyautogui.size()\n",
    "            pyautogui.click(width / 2, height / 2)\n",
    "\n",
    "            pyautogui.press(\"enter\")\n",
    "            time.sleep(1)\n",
    "            pyautogui.hotkey('ctrl', 'w') \n",
    "            pyautogui.press(\"enter\")\n",
    "        except:\n",
    "            print(row['FName'], end='')\n",
    "            print(' with number ', end='')\n",
    "            print(row['Number'], end='')\n",
    "            print(' failed!')\n",
    "            failures[row['FName']] = row['Number']"
   ]
  },
  {
   "cell_type": "code",
   "execution_count": null,
   "id": "df3ea758",
   "metadata": {},
   "outputs": [],
   "source": [
    "run_script()"
   ]
  }
 ],
 "metadata": {
  "kernelspec": {
   "display_name": "Python 3",
   "language": "python",
   "name": "python3"
  },
  "language_info": {
   "codemirror_mode": {
    "name": "ipython",
    "version": 3
   },
   "file_extension": ".py",
   "mimetype": "text/x-python",
   "name": "python",
   "nbconvert_exporter": "python",
   "pygments_lexer": "ipython3",
   "version": "3.8.8"
  }
 },
 "nbformat": 4,
 "nbformat_minor": 5
}
